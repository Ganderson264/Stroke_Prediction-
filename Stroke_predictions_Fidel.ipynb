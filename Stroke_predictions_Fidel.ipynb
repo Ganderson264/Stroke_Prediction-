{
 "cells": [
  {
   "cell_type": "markdown",
   "metadata": {},
   "source": [
    "### Import Libraries"
   ]
  },
  {
   "cell_type": "code",
   "execution_count": 1,
   "metadata": {},
   "outputs": [],
   "source": [
    "import pandas as pd\n",
    "import matplotlib as plt\n",
    "from sklearn.cluster import KMeans\n",
    "from sklearn.preprocessing import StandardScaler\n",
    "from sklearn.preprocessing import MinMaxScaler\n",
    "import os"
   ]
  },
  {
   "cell_type": "markdown",
   "metadata": {},
   "source": [
    "### Load Clean DataSet"
   ]
  },
  {
   "cell_type": "code",
   "execution_count": 2,
   "metadata": {},
   "outputs": [
    {
     "name": "stdout",
     "output_type": "stream",
     "text": [
      "<class 'pandas.core.frame.DataFrame'>\n",
      "RangeIndex: 4908 entries, 0 to 4907\n",
      "Data columns (total 18 columns):\n",
      " #   Column                          Non-Null Count  Dtype  \n",
      "---  ------                          --------------  -----  \n",
      " 0   age                             4908 non-null   float64\n",
      " 1   hypertension                    4908 non-null   int64  \n",
      " 2   heart_disease                   4908 non-null   int64  \n",
      " 3   avg_glucose_level               4908 non-null   float64\n",
      " 4   bmi                             4908 non-null   float64\n",
      " 5   Male                            4908 non-null   int64  \n",
      " 6   ever_married                    4908 non-null   int64  \n",
      " 7   Urban                           4908 non-null   int64  \n",
      " 8   work_type_Govt_job              4908 non-null   int64  \n",
      " 9   work_type_Never_worked          4908 non-null   int64  \n",
      " 10  work_type_Private               4908 non-null   int64  \n",
      " 11  work_type_Self-employed         4908 non-null   int64  \n",
      " 12  work_type_children              4908 non-null   int64  \n",
      " 13  smoking_status_Unknown          4908 non-null   int64  \n",
      " 14  smoking_status_formerly smoked  4908 non-null   int64  \n",
      " 15  smoking_status_never smoked     4908 non-null   int64  \n",
      " 16  smoking_status_smokes           4908 non-null   int64  \n",
      " 17  stroke                          4908 non-null   int64  \n",
      "dtypes: float64(3), int64(15)\n",
      "memory usage: 690.3 KB\n"
     ]
    }
   ],
   "source": [
    "df=pd.read_csv('clean-healthcare-dataset-stroke-data.csv')\n",
    "df.info()"
   ]
  },
  {
   "cell_type": "code",
   "execution_count": 3,
   "metadata": {},
   "outputs": [
    {
     "data": {
      "text/plain": [
       "age                                82.00\n",
       "hypertension                        1.00\n",
       "heart_disease                       1.00\n",
       "avg_glucose_level                 271.74\n",
       "bmi                                97.60\n",
       "Male                                1.00\n",
       "ever_married                        1.00\n",
       "Urban                               1.00\n",
       "work_type_Govt_job                  1.00\n",
       "work_type_Never_worked              1.00\n",
       "work_type_Private                   1.00\n",
       "work_type_Self-employed             1.00\n",
       "work_type_children                  1.00\n",
       "smoking_status_Unknown              1.00\n",
       "smoking_status_formerly smoked      1.00\n",
       "smoking_status_never smoked         1.00\n",
       "smoking_status_smokes               1.00\n",
       "stroke                              1.00\n",
       "dtype: float64"
      ]
     },
     "execution_count": 3,
     "metadata": {},
     "output_type": "execute_result"
    }
   ],
   "source": [
    "df.max()"
   ]
  },
  {
   "cell_type": "markdown",
   "metadata": {},
   "source": [
    "## About the DataSet\n",
    "\n",
    "### **EXTREMELY UNBALANCED**\n",
    "\n",
    "### The \"cleaned and encoded\" dataset contains 4908 records\n",
    "### Only 209 (4.25%) of these are positive for stroke and the rest (95.74%) are negative\n",
    "\n",
    "### Will try to create models with different less unbalanced samples to run prediction models\n",
    "\n",
    "### **Fortunately/Unfortunately there might not be enough positive cases to effectively predict**"
   ]
  },
  {
   "cell_type": "markdown",
   "metadata": {},
   "source": [
    "### StandardScaler Scaled"
   ]
  },
  {
   "cell_type": "code",
   "execution_count": 4,
   "metadata": {},
   "outputs": [
    {
     "data": {
      "text/html": [
       "<div>\n",
       "<style scoped>\n",
       "    .dataframe tbody tr th:only-of-type {\n",
       "        vertical-align: middle;\n",
       "    }\n",
       "\n",
       "    .dataframe tbody tr th {\n",
       "        vertical-align: top;\n",
       "    }\n",
       "\n",
       "    .dataframe thead th {\n",
       "        text-align: right;\n",
       "    }\n",
       "</style>\n",
       "<table border=\"1\" class=\"dataframe\">\n",
       "  <thead>\n",
       "    <tr style=\"text-align: right;\">\n",
       "      <th></th>\n",
       "      <th>age</th>\n",
       "      <th>hypertension</th>\n",
       "      <th>heart_disease</th>\n",
       "      <th>avg_glucose_level</th>\n",
       "      <th>bmi</th>\n",
       "      <th>Male</th>\n",
       "      <th>ever_married</th>\n",
       "      <th>Urban</th>\n",
       "      <th>work_type_Govt_job</th>\n",
       "      <th>work_type_Never_worked</th>\n",
       "      <th>work_type_Private</th>\n",
       "      <th>work_type_Self-employed</th>\n",
       "      <th>work_type_children</th>\n",
       "      <th>smoking_status_Unknown</th>\n",
       "      <th>smoking_status_formerly smoked</th>\n",
       "      <th>smoking_status_never smoked</th>\n",
       "      <th>smoking_status_smokes</th>\n",
       "      <th>stroke</th>\n",
       "    </tr>\n",
       "  </thead>\n",
       "  <tbody>\n",
       "    <tr>\n",
       "      <th>0</th>\n",
       "      <td>1.069938</td>\n",
       "      <td>-0.318102</td>\n",
       "      <td>4.381499</td>\n",
       "      <td>2.777797</td>\n",
       "      <td>0.981145</td>\n",
       "      <td>1.200240</td>\n",
       "      <td>0.729270</td>\n",
       "      <td>0.985436</td>\n",
       "      <td>-0.383751</td>\n",
       "      <td>-0.067102</td>\n",
       "      <td>0.864071</td>\n",
       "      <td>-0.433030</td>\n",
       "      <td>-0.397953</td>\n",
       "      <td>-0.658022</td>\n",
       "      <td>2.206992</td>\n",
       "      <td>-0.778473</td>\n",
       "      <td>-0.420353</td>\n",
       "      <td>4.741651</td>\n",
       "    </tr>\n",
       "    <tr>\n",
       "      <th>1</th>\n",
       "      <td>1.646336</td>\n",
       "      <td>-0.318102</td>\n",
       "      <td>4.381499</td>\n",
       "      <td>0.014016</td>\n",
       "      <td>0.459086</td>\n",
       "      <td>1.200240</td>\n",
       "      <td>0.729270</td>\n",
       "      <td>-1.014779</td>\n",
       "      <td>-0.383751</td>\n",
       "      <td>-0.067102</td>\n",
       "      <td>0.864071</td>\n",
       "      <td>-0.433030</td>\n",
       "      <td>-0.397953</td>\n",
       "      <td>-0.658022</td>\n",
       "      <td>-0.453105</td>\n",
       "      <td>1.284565</td>\n",
       "      <td>-0.420353</td>\n",
       "      <td>4.741651</td>\n",
       "    </tr>\n",
       "    <tr>\n",
       "      <th>2</th>\n",
       "      <td>0.271847</td>\n",
       "      <td>-0.318102</td>\n",
       "      <td>-0.228232</td>\n",
       "      <td>1.484266</td>\n",
       "      <td>0.701016</td>\n",
       "      <td>-0.833166</td>\n",
       "      <td>0.729270</td>\n",
       "      <td>0.985436</td>\n",
       "      <td>-0.383751</td>\n",
       "      <td>-0.067102</td>\n",
       "      <td>0.864071</td>\n",
       "      <td>-0.433030</td>\n",
       "      <td>-0.397953</td>\n",
       "      <td>-0.658022</td>\n",
       "      <td>-0.453105</td>\n",
       "      <td>-0.778473</td>\n",
       "      <td>2.378956</td>\n",
       "      <td>4.741651</td>\n",
       "    </tr>\n",
       "    <tr>\n",
       "      <th>3</th>\n",
       "      <td>1.601998</td>\n",
       "      <td>3.143642</td>\n",
       "      <td>-0.228232</td>\n",
       "      <td>1.549325</td>\n",
       "      <td>-0.623231</td>\n",
       "      <td>-0.833166</td>\n",
       "      <td>0.729270</td>\n",
       "      <td>-1.014779</td>\n",
       "      <td>-0.383751</td>\n",
       "      <td>-0.067102</td>\n",
       "      <td>-1.157312</td>\n",
       "      <td>2.309308</td>\n",
       "      <td>-0.397953</td>\n",
       "      <td>-0.658022</td>\n",
       "      <td>-0.453105</td>\n",
       "      <td>1.284565</td>\n",
       "      <td>-0.420353</td>\n",
       "      <td>4.741651</td>\n",
       "    </tr>\n",
       "    <tr>\n",
       "      <th>4</th>\n",
       "      <td>1.690675</td>\n",
       "      <td>-0.318102</td>\n",
       "      <td>-0.228232</td>\n",
       "      <td>1.821493</td>\n",
       "      <td>0.013426</td>\n",
       "      <td>1.200240</td>\n",
       "      <td>0.729270</td>\n",
       "      <td>0.985436</td>\n",
       "      <td>-0.383751</td>\n",
       "      <td>-0.067102</td>\n",
       "      <td>0.864071</td>\n",
       "      <td>-0.433030</td>\n",
       "      <td>-0.397953</td>\n",
       "      <td>-0.658022</td>\n",
       "      <td>2.206992</td>\n",
       "      <td>-0.778473</td>\n",
       "      <td>-0.420353</td>\n",
       "      <td>4.741651</td>\n",
       "    </tr>\n",
       "    <tr>\n",
       "      <th>...</th>\n",
       "      <td>...</td>\n",
       "      <td>...</td>\n",
       "      <td>...</td>\n",
       "      <td>...</td>\n",
       "      <td>...</td>\n",
       "      <td>...</td>\n",
       "      <td>...</td>\n",
       "      <td>...</td>\n",
       "      <td>...</td>\n",
       "      <td>...</td>\n",
       "      <td>...</td>\n",
       "      <td>...</td>\n",
       "      <td>...</td>\n",
       "      <td>...</td>\n",
       "      <td>...</td>\n",
       "      <td>...</td>\n",
       "      <td>...</td>\n",
       "      <td>...</td>\n",
       "    </tr>\n",
       "    <tr>\n",
       "      <th>4903</th>\n",
       "      <td>-1.324334</td>\n",
       "      <td>-0.318102</td>\n",
       "      <td>-0.228232</td>\n",
       "      <td>-0.049918</td>\n",
       "      <td>-1.310821</td>\n",
       "      <td>-0.833166</td>\n",
       "      <td>-1.371234</td>\n",
       "      <td>-1.014779</td>\n",
       "      <td>-0.383751</td>\n",
       "      <td>-0.067102</td>\n",
       "      <td>-1.157312</td>\n",
       "      <td>-0.433030</td>\n",
       "      <td>2.512858</td>\n",
       "      <td>1.519706</td>\n",
       "      <td>-0.453105</td>\n",
       "      <td>-0.778473</td>\n",
       "      <td>-0.420353</td>\n",
       "      <td>-0.210897</td>\n",
       "    </tr>\n",
       "    <tr>\n",
       "      <th>4904</th>\n",
       "      <td>1.690675</td>\n",
       "      <td>-0.318102</td>\n",
       "      <td>-0.228232</td>\n",
       "      <td>0.448045</td>\n",
       "      <td>1.414072</td>\n",
       "      <td>-0.833166</td>\n",
       "      <td>0.729270</td>\n",
       "      <td>0.985436</td>\n",
       "      <td>-0.383751</td>\n",
       "      <td>-0.067102</td>\n",
       "      <td>-1.157312</td>\n",
       "      <td>2.309308</td>\n",
       "      <td>-0.397953</td>\n",
       "      <td>-0.658022</td>\n",
       "      <td>-0.453105</td>\n",
       "      <td>1.284565</td>\n",
       "      <td>-0.420353</td>\n",
       "      <td>-0.210897</td>\n",
       "    </tr>\n",
       "    <tr>\n",
       "      <th>4905</th>\n",
       "      <td>-0.348890</td>\n",
       "      <td>-0.318102</td>\n",
       "      <td>-0.228232</td>\n",
       "      <td>-0.502181</td>\n",
       "      <td>0.217156</td>\n",
       "      <td>-0.833166</td>\n",
       "      <td>0.729270</td>\n",
       "      <td>-1.014779</td>\n",
       "      <td>-0.383751</td>\n",
       "      <td>-0.067102</td>\n",
       "      <td>-1.157312</td>\n",
       "      <td>2.309308</td>\n",
       "      <td>-0.397953</td>\n",
       "      <td>-0.658022</td>\n",
       "      <td>-0.453105</td>\n",
       "      <td>1.284565</td>\n",
       "      <td>-0.420353</td>\n",
       "      <td>-0.210897</td>\n",
       "    </tr>\n",
       "    <tr>\n",
       "      <th>4906</th>\n",
       "      <td>0.360524</td>\n",
       "      <td>-0.318102</td>\n",
       "      <td>-0.228232</td>\n",
       "      <td>1.373057</td>\n",
       "      <td>-0.419501</td>\n",
       "      <td>1.200240</td>\n",
       "      <td>0.729270</td>\n",
       "      <td>-1.014779</td>\n",
       "      <td>-0.383751</td>\n",
       "      <td>-0.067102</td>\n",
       "      <td>0.864071</td>\n",
       "      <td>-0.433030</td>\n",
       "      <td>-0.397953</td>\n",
       "      <td>-0.658022</td>\n",
       "      <td>2.206992</td>\n",
       "      <td>-0.778473</td>\n",
       "      <td>-0.420353</td>\n",
       "      <td>-0.210897</td>\n",
       "    </tr>\n",
       "    <tr>\n",
       "      <th>4907</th>\n",
       "      <td>0.050155</td>\n",
       "      <td>-0.318102</td>\n",
       "      <td>-0.228232</td>\n",
       "      <td>-0.450629</td>\n",
       "      <td>-0.343102</td>\n",
       "      <td>-0.833166</td>\n",
       "      <td>0.729270</td>\n",
       "      <td>0.985436</td>\n",
       "      <td>2.605854</td>\n",
       "      <td>-0.067102</td>\n",
       "      <td>-1.157312</td>\n",
       "      <td>-0.433030</td>\n",
       "      <td>-0.397953</td>\n",
       "      <td>1.519706</td>\n",
       "      <td>-0.453105</td>\n",
       "      <td>-0.778473</td>\n",
       "      <td>-0.420353</td>\n",
       "      <td>-0.210897</td>\n",
       "    </tr>\n",
       "  </tbody>\n",
       "</table>\n",
       "<p>4908 rows × 18 columns</p>\n",
       "</div>"
      ],
      "text/plain": [
       "           age  hypertension  heart_disease  avg_glucose_level       bmi  \\\n",
       "0     1.069938     -0.318102       4.381499           2.777797  0.981145   \n",
       "1     1.646336     -0.318102       4.381499           0.014016  0.459086   \n",
       "2     0.271847     -0.318102      -0.228232           1.484266  0.701016   \n",
       "3     1.601998      3.143642      -0.228232           1.549325 -0.623231   \n",
       "4     1.690675     -0.318102      -0.228232           1.821493  0.013426   \n",
       "...        ...           ...            ...                ...       ...   \n",
       "4903 -1.324334     -0.318102      -0.228232          -0.049918 -1.310821   \n",
       "4904  1.690675     -0.318102      -0.228232           0.448045  1.414072   \n",
       "4905 -0.348890     -0.318102      -0.228232          -0.502181  0.217156   \n",
       "4906  0.360524     -0.318102      -0.228232           1.373057 -0.419501   \n",
       "4907  0.050155     -0.318102      -0.228232          -0.450629 -0.343102   \n",
       "\n",
       "          Male  ever_married     Urban  work_type_Govt_job  \\\n",
       "0     1.200240      0.729270  0.985436           -0.383751   \n",
       "1     1.200240      0.729270 -1.014779           -0.383751   \n",
       "2    -0.833166      0.729270  0.985436           -0.383751   \n",
       "3    -0.833166      0.729270 -1.014779           -0.383751   \n",
       "4     1.200240      0.729270  0.985436           -0.383751   \n",
       "...        ...           ...       ...                 ...   \n",
       "4903 -0.833166     -1.371234 -1.014779           -0.383751   \n",
       "4904 -0.833166      0.729270  0.985436           -0.383751   \n",
       "4905 -0.833166      0.729270 -1.014779           -0.383751   \n",
       "4906  1.200240      0.729270 -1.014779           -0.383751   \n",
       "4907 -0.833166      0.729270  0.985436            2.605854   \n",
       "\n",
       "      work_type_Never_worked  work_type_Private  work_type_Self-employed  \\\n",
       "0                  -0.067102           0.864071                -0.433030   \n",
       "1                  -0.067102           0.864071                -0.433030   \n",
       "2                  -0.067102           0.864071                -0.433030   \n",
       "3                  -0.067102          -1.157312                 2.309308   \n",
       "4                  -0.067102           0.864071                -0.433030   \n",
       "...                      ...                ...                      ...   \n",
       "4903               -0.067102          -1.157312                -0.433030   \n",
       "4904               -0.067102          -1.157312                 2.309308   \n",
       "4905               -0.067102          -1.157312                 2.309308   \n",
       "4906               -0.067102           0.864071                -0.433030   \n",
       "4907               -0.067102          -1.157312                -0.433030   \n",
       "\n",
       "      work_type_children  smoking_status_Unknown  \\\n",
       "0              -0.397953               -0.658022   \n",
       "1              -0.397953               -0.658022   \n",
       "2              -0.397953               -0.658022   \n",
       "3              -0.397953               -0.658022   \n",
       "4              -0.397953               -0.658022   \n",
       "...                  ...                     ...   \n",
       "4903            2.512858                1.519706   \n",
       "4904           -0.397953               -0.658022   \n",
       "4905           -0.397953               -0.658022   \n",
       "4906           -0.397953               -0.658022   \n",
       "4907           -0.397953                1.519706   \n",
       "\n",
       "      smoking_status_formerly smoked  smoking_status_never smoked  \\\n",
       "0                           2.206992                    -0.778473   \n",
       "1                          -0.453105                     1.284565   \n",
       "2                          -0.453105                    -0.778473   \n",
       "3                          -0.453105                     1.284565   \n",
       "4                           2.206992                    -0.778473   \n",
       "...                              ...                          ...   \n",
       "4903                       -0.453105                    -0.778473   \n",
       "4904                       -0.453105                     1.284565   \n",
       "4905                       -0.453105                     1.284565   \n",
       "4906                        2.206992                    -0.778473   \n",
       "4907                       -0.453105                    -0.778473   \n",
       "\n",
       "      smoking_status_smokes    stroke  \n",
       "0                 -0.420353  4.741651  \n",
       "1                 -0.420353  4.741651  \n",
       "2                  2.378956  4.741651  \n",
       "3                 -0.420353  4.741651  \n",
       "4                 -0.420353  4.741651  \n",
       "...                     ...       ...  \n",
       "4903              -0.420353 -0.210897  \n",
       "4904              -0.420353 -0.210897  \n",
       "4905              -0.420353 -0.210897  \n",
       "4906              -0.420353 -0.210897  \n",
       "4907              -0.420353 -0.210897  \n",
       "\n",
       "[4908 rows x 18 columns]"
      ]
     },
     "execution_count": 4,
     "metadata": {},
     "output_type": "execute_result"
    }
   ],
   "source": [
    "ss=StandardScaler()\n",
    "ss_scaled=ss.fit_transform(df)\n",
    "ss_df=pd.DataFrame(ss_scaled, columns=df.columns)\n",
    "ss_df"
   ]
  },
  {
   "cell_type": "code",
   "execution_count": 7,
   "metadata": {},
   "outputs": [
    {
     "data": {
      "text/plain": [
       "age                                1.735013\n",
       "hypertension                       3.143642\n",
       "heart_disease                      4.381499\n",
       "avg_glucose_level                  3.746933\n",
       "bmi                                8.748363\n",
       "Male                               1.200240\n",
       "ever_married                       0.729270\n",
       "Urban                              0.985436\n",
       "work_type_Govt_job                 2.605854\n",
       "work_type_Never_worked            14.902715\n",
       "work_type_Private                  0.864071\n",
       "work_type_Self-employed            2.309308\n",
       "work_type_children                 2.512858\n",
       "smoking_status_Unknown             1.519706\n",
       "smoking_status_formerly smoked     2.206992\n",
       "smoking_status_never smoked        1.284565\n",
       "smoking_status_smokes              2.378956\n",
       "stroke                             4.741651\n",
       "dtype: float64"
      ]
     },
     "execution_count": 7,
     "metadata": {},
     "output_type": "execute_result"
    }
   ],
   "source": [
    "ss_df.max()"
   ]
  },
  {
   "cell_type": "markdown",
   "metadata": {},
   "source": [
    "#### Standard Scaler gave a value of 14.90 to an orginal value of 1 on the column work_type_Never_worked "
   ]
  },
  {
   "cell_type": "code",
   "execution_count": 8,
   "metadata": {},
   "outputs": [
    {
     "data": {
      "text/plain": [
       "work_type_Never_worked\n",
       "-0.067102     4886\n",
       " 14.902715      22\n",
       "Name: count, dtype: int64"
      ]
     },
     "execution_count": 8,
     "metadata": {},
     "output_type": "execute_result"
    }
   ],
   "source": [
    "ss_df['work_type_Never_worked'].value_counts()"
   ]
  },
  {
   "cell_type": "code",
   "execution_count": 5,
   "metadata": {},
   "outputs": [
    {
     "data": {
      "text/plain": [
       "stroke\n",
       "-0.210897    95.741646\n",
       " 4.741651     4.258354\n",
       "Name: count, dtype: float64"
      ]
     },
     "execution_count": 5,
     "metadata": {},
     "output_type": "execute_result"
    }
   ],
   "source": [
    "ss_df['stroke'].value_counts()/len(ss_df)*100"
   ]
  },
  {
   "cell_type": "markdown",
   "metadata": {},
   "source": [
    "### 1 All Positive, and 3 All negative Samples"
   ]
  },
  {
   "cell_type": "code",
   "execution_count": 6,
   "metadata": {},
   "outputs": [],
   "source": [
    "ss_Positives=ss_df.loc[ss_df['stroke']==ss_df['stroke'].max()]\n",
    "ss_Negative_sample_1=ss_df.loc[ss_df['stroke']==ss_df['stroke'].min()] \\\n",
    "    .sample(len(ss_Positives),random_state=1)\n",
    "ss_Negative_sample_2=ss_df.loc[ss_df['stroke']==ss_df['stroke'].min()] \\\n",
    "    .sample(len(ss_Positives),random_state=3)\n",
    "ss_Negative_sample_3=ss_df.loc[ss_df['stroke']==ss_df['stroke'].min()] \\\n",
    "    .sample(len(ss_Positives),random_state=5)\n"
   ]
  },
  {
   "cell_type": "code",
   "execution_count": null,
   "metadata": {},
   "outputs": [],
   "source": [
    "ss_Positives.columns"
   ]
  },
  {
   "cell_type": "code",
   "execution_count": null,
   "metadata": {},
   "outputs": [],
   "source": [
    "ss_Positives[['age', 'hypertension', 'heart_disease', 'avg_glucose_level', 'bmi',\n",
    "       'Male', 'ever_married', 'Urban', 'work_type_Govt_job',\n",
    "       'work_type_Never_worked', 'work_type_Private',\n",
    "       'work_type_Self-employed', 'work_type_children',\n",
    "       'smoking_status_Unknown', 'smoking_status_formerly smoked',\n",
    "       'smoking_status_never smoked', 'smoking_status_smokes']].plot(figsize=(9,6))"
   ]
  },
  {
   "cell_type": "code",
   "execution_count": null,
   "metadata": {},
   "outputs": [],
   "source": [
    "ss_Negative_sample_1.max()"
   ]
  },
  {
   "cell_type": "code",
   "execution_count": null,
   "metadata": {},
   "outputs": [],
   "source": [
    "# ss_Negative_sample_1.reset_index(inplace=True)\n",
    "ss_Negative_sample_1.plot(figsize=(9,6))"
   ]
  },
  {
   "cell_type": "code",
   "execution_count": null,
   "metadata": {},
   "outputs": [],
   "source": [
    "ss_Negative_sample_2.plot(figsize=(9,6))"
   ]
  },
  {
   "cell_type": "code",
   "execution_count": null,
   "metadata": {},
   "outputs": [],
   "source": [
    "ss_Negative_sample_3.plot(figsize=(9,6))"
   ]
  },
  {
   "cell_type": "markdown",
   "metadata": {},
   "source": [
    "### MinMaxScaler"
   ]
  },
  {
   "cell_type": "code",
   "execution_count": null,
   "metadata": {},
   "outputs": [],
   "source": [
    "mms=MinMaxScaler()\n",
    "mms_scaled=mms.fit_transform(df_data)\n",
    "mms_scaled_df=pd.DataFrame(mms_scaled, columns=df_data.columns)\n",
    "mms_scaled_df\n",
    "mms_scaled_df.plot.scatter(x='age', y='bmi')"
   ]
  },
  {
   "cell_type": "markdown",
   "metadata": {},
   "source": [
    "### StandardScaler"
   ]
  },
  {
   "cell_type": "code",
   "execution_count": null,
   "metadata": {},
   "outputs": [],
   "source": [
    "ss=StandardScaler()\n",
    "ss_Scaled=ss.fit_transform(df_data)\n",
    "ss_Scaled_df=pd.DataFrame(ss_Scaled, columns=df_data.columns)\n",
    "ss_Scaled_df.plot.scatter(x='age',y='bmi')"
   ]
  },
  {
   "cell_type": "markdown",
   "metadata": {},
   "source": [
    "### Get number of possible clusters"
   ]
  },
  {
   "cell_type": "code",
   "execution_count": null,
   "metadata": {},
   "outputs": [],
   "source": [
    "inertia=[]\n",
    "k_values=list(range(1,11))\n",
    "for i in k_values:\n",
    "    model=KMeans(n_clusters=i, n_init='auto',random_state=13)\n",
    "    model.fit(ss_Scaled_df)\n",
    "    inertia.append(model.inertia_)\n",
    "inertia_df=pd.DataFrame({'k':k_values, 'inertia':inertia})\n",
    "inertia_df.plot(x='k',y='inertia')"
   ]
  },
  {
   "cell_type": "code",
   "execution_count": null,
   "metadata": {},
   "outputs": [],
   "source": []
  },
  {
   "cell_type": "code",
   "execution_count": null,
   "metadata": {},
   "outputs": [],
   "source": [
    "inertia=[]\n",
    "k_values=list(range(1,11))\n",
    "for i in k_values:\n",
    "    model=KMeans(n_clusters=i, n_init='auto',random_state=13)\n",
    "    model.fit(mms_scaled_df)\n",
    "    inertia.append(model.inertia_)\n",
    "inertia_df=pd.DataFrame({'k':k_values, 'inertia':inertia})\n",
    "inertia_df.plot(x='k',y='inertia')"
   ]
  },
  {
   "cell_type": "code",
   "execution_count": null,
   "metadata": {},
   "outputs": [],
   "source": [
    "mms_model = KMeans(n_clusters=4, n_init='auto',random_state=13)\n",
    "mms_model.fit(mms_scaled_df)\n",
    "prediction = mms_model.predict(mms_scaled_df)\n",
    "mms_scaled_df['prediction'] = prediction\n",
    "mms_scaled_df.plot.scatter(x='age', y='bmi',c='prediction',colormap='winter')\n"
   ]
  },
  {
   "cell_type": "code",
   "execution_count": null,
   "metadata": {},
   "outputs": [],
   "source": [
    "mms_scaled_df['prediction'].value_counts()/len(mms_scaled_df)"
   ]
  },
  {
   "cell_type": "code",
   "execution_count": null,
   "metadata": {},
   "outputs": [],
   "source": []
  }
 ],
 "metadata": {
  "kernelspec": {
   "display_name": "base",
   "language": "python",
   "name": "python3"
  },
  "language_info": {
   "codemirror_mode": {
    "name": "ipython",
    "version": 3
   },
   "file_extension": ".py",
   "mimetype": "text/x-python",
   "name": "python",
   "nbconvert_exporter": "python",
   "pygments_lexer": "ipython3",
   "version": "3.11.8"
  }
 },
 "nbformat": 4,
 "nbformat_minor": 2
}
